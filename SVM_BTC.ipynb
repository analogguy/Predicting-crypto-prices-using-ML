{
  "nbformat": 4,
  "nbformat_minor": 0,
  "metadata": {
    "colab": {
      "name": "SVM_BTC.ipynb",
      "provenance": [],
      "collapsed_sections": []
    },
    "kernelspec": {
      "display_name": "Python 3",
      "name": "python3"
    },
    "language_info": {
      "name": "python"
    }
  },
  "cells": [
    {
      "cell_type": "code",
      "metadata": {
        "id": "czWZXhj0pjWh"
      },
      "source": [
        "#Description: This program predicts the price of Bitcoin for the next 30 days\n",
        "\n",
        "import numpy as np \n",
        "import pandas as pd\n",
        "import matplotlib.pyplot as plt\n",
        "from sklearn.metrics import mean_squared_error"
      ],
      "execution_count": null,
      "outputs": []
    },
    {
      "cell_type": "code",
      "metadata": {
        "colab": {
          "resources": {
            "http://localhost:8080/nbextensions/google.colab/files.js": {
              "data": "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",
              "ok": true,
              "headers": [
                [
                  "content-type",
                  "application/javascript"
                ]
              ],
              "status": 200,
              "status_text": ""
            }
          },
          "base_uri": "https://localhost:8080/",
          "height": 72
        },
        "id": "QyKWjXdfsN7y",
        "outputId": "421b0e22-16ff-46ca-f40c-bb8ac9acf14c"
      },
      "source": [
        "#Load the data\n",
        "from google.colab import files # Use to load data on Google Colab\n",
        "uploaded = files.upload() # Use to load data on Google Colab"
      ],
      "execution_count": null,
      "outputs": [
        {
          "output_type": "display_data",
          "data": {
            "text/html": [
              "\n",
              "     <input type=\"file\" id=\"files-5decfbe4-3411-440d-96be-343de8d22e33\" name=\"files[]\" multiple disabled\n",
              "        style=\"border:none\" />\n",
              "     <output id=\"result-5decfbe4-3411-440d-96be-343de8d22e33\">\n",
              "      Upload widget is only available when the cell has been executed in the\n",
              "      current browser session. Please rerun this cell to enable.\n",
              "      </output>\n",
              "      <script src=\"/nbextensions/google.colab/files.js\"></script> "
            ],
            "text/plain": [
              "<IPython.core.display.HTML object>"
            ]
          },
          "metadata": {
            "tags": []
          }
        },
        {
          "output_type": "stream",
          "text": [
            "Saving BTC-USD.csv to BTC-USD.csv\n"
          ],
          "name": "stdout"
        }
      ]
    },
    {
      "cell_type": "code",
      "metadata": {
        "colab": {
          "base_uri": "https://localhost:8080/",
          "height": 266
        },
        "id": "w-sXfkrcsRtH",
        "outputId": "b800a5d0-601a-4239-c1b8-db5e59e82f94"
      },
      "source": [
        "#Store the data into the variable df\n",
        "df = pd.read_csv('BTC-USD.csv')\n",
        "df.head(7)"
      ],
      "execution_count": null,
      "outputs": [
        {
          "output_type": "execute_result",
          "data": {
            "text/html": [
              "<div>\n",
              "<style scoped>\n",
              "    .dataframe tbody tr th:only-of-type {\n",
              "        vertical-align: middle;\n",
              "    }\n",
              "\n",
              "    .dataframe tbody tr th {\n",
              "        vertical-align: top;\n",
              "    }\n",
              "\n",
              "    .dataframe thead th {\n",
              "        text-align: right;\n",
              "    }\n",
              "</style>\n",
              "<table border=\"1\" class=\"dataframe\">\n",
              "  <thead>\n",
              "    <tr style=\"text-align: right;\">\n",
              "      <th></th>\n",
              "      <th>Date</th>\n",
              "      <th>Open</th>\n",
              "      <th>High</th>\n",
              "      <th>Low</th>\n",
              "      <th>Close</th>\n",
              "      <th>Adj Close</th>\n",
              "      <th>Volume</th>\n",
              "    </tr>\n",
              "  </thead>\n",
              "  <tbody>\n",
              "    <tr>\n",
              "      <th>0</th>\n",
              "      <td>2014-09-17</td>\n",
              "      <td>465.864014</td>\n",
              "      <td>468.174011</td>\n",
              "      <td>452.421997</td>\n",
              "      <td>457.334015</td>\n",
              "      <td>457.334015</td>\n",
              "      <td>21056800.0</td>\n",
              "    </tr>\n",
              "    <tr>\n",
              "      <th>1</th>\n",
              "      <td>2014-09-18</td>\n",
              "      <td>456.859985</td>\n",
              "      <td>456.859985</td>\n",
              "      <td>413.104004</td>\n",
              "      <td>424.440002</td>\n",
              "      <td>424.440002</td>\n",
              "      <td>34483200.0</td>\n",
              "    </tr>\n",
              "    <tr>\n",
              "      <th>2</th>\n",
              "      <td>2014-09-19</td>\n",
              "      <td>424.102997</td>\n",
              "      <td>427.834991</td>\n",
              "      <td>384.532013</td>\n",
              "      <td>394.795990</td>\n",
              "      <td>394.795990</td>\n",
              "      <td>37919700.0</td>\n",
              "    </tr>\n",
              "    <tr>\n",
              "      <th>3</th>\n",
              "      <td>2014-09-20</td>\n",
              "      <td>394.673004</td>\n",
              "      <td>423.295990</td>\n",
              "      <td>389.882996</td>\n",
              "      <td>408.903992</td>\n",
              "      <td>408.903992</td>\n",
              "      <td>36863600.0</td>\n",
              "    </tr>\n",
              "    <tr>\n",
              "      <th>4</th>\n",
              "      <td>2014-09-21</td>\n",
              "      <td>408.084991</td>\n",
              "      <td>412.425995</td>\n",
              "      <td>393.181000</td>\n",
              "      <td>398.821014</td>\n",
              "      <td>398.821014</td>\n",
              "      <td>26580100.0</td>\n",
              "    </tr>\n",
              "    <tr>\n",
              "      <th>5</th>\n",
              "      <td>2014-09-22</td>\n",
              "      <td>399.100006</td>\n",
              "      <td>406.915985</td>\n",
              "      <td>397.130005</td>\n",
              "      <td>402.152008</td>\n",
              "      <td>402.152008</td>\n",
              "      <td>24127600.0</td>\n",
              "    </tr>\n",
              "    <tr>\n",
              "      <th>6</th>\n",
              "      <td>2014-09-23</td>\n",
              "      <td>402.092010</td>\n",
              "      <td>441.557007</td>\n",
              "      <td>396.196991</td>\n",
              "      <td>435.790985</td>\n",
              "      <td>435.790985</td>\n",
              "      <td>45099500.0</td>\n",
              "    </tr>\n",
              "  </tbody>\n",
              "</table>\n",
              "</div>"
            ],
            "text/plain": [
              "         Date        Open        High  ...       Close   Adj Close      Volume\n",
              "0  2014-09-17  465.864014  468.174011  ...  457.334015  457.334015  21056800.0\n",
              "1  2014-09-18  456.859985  456.859985  ...  424.440002  424.440002  34483200.0\n",
              "2  2014-09-19  424.102997  427.834991  ...  394.795990  394.795990  37919700.0\n",
              "3  2014-09-20  394.673004  423.295990  ...  408.903992  408.903992  36863600.0\n",
              "4  2014-09-21  408.084991  412.425995  ...  398.821014  398.821014  26580100.0\n",
              "5  2014-09-22  399.100006  406.915985  ...  402.152008  402.152008  24127600.0\n",
              "6  2014-09-23  402.092010  441.557007  ...  435.790985  435.790985  45099500.0\n",
              "\n",
              "[7 rows x 7 columns]"
            ]
          },
          "metadata": {
            "tags": []
          },
          "execution_count": 3
        }
      ]
    },
    {
      "cell_type": "code",
      "metadata": {
        "id": "KZb61YvPslQg"
      },
      "source": [
        "#Remove all other columns, so when you shift up by 30, there are no NA fields left\n",
        "df.drop(['Open', 'High', 'Low', 'Volume', 'Adj Close', 'Date'], 1, inplace=True)"
      ],
      "execution_count": null,
      "outputs": []
    },
    {
      "cell_type": "code",
      "metadata": {
        "id": "mYRFIMcMsnzw"
      },
      "source": [
        "#A variable for predicting 'n' days out into the future\n",
        "prediction_days = 30 #n = 30 days\n",
        "\n",
        "#Create another column (the target or dependent variable) shifted 'n' units up\n",
        "df['Prediction'] = df[['Close']].shift(-prediction_days)"
      ],
      "execution_count": null,
      "outputs": []
    },
    {
      "cell_type": "code",
      "metadata": {
        "colab": {
          "base_uri": "https://localhost:8080/",
          "height": 266
        },
        "id": "yfYSwjistEzQ",
        "outputId": "f80a8740-5f25-4df1-8b2b-9ba9fc2f70c8"
      },
      "source": [
        "#Show the first 7 rows of the new data set\n",
        "df.head(7)"
      ],
      "execution_count": null,
      "outputs": [
        {
          "output_type": "execute_result",
          "data": {
            "text/html": [
              "<div>\n",
              "<style scoped>\n",
              "    .dataframe tbody tr th:only-of-type {\n",
              "        vertical-align: middle;\n",
              "    }\n",
              "\n",
              "    .dataframe tbody tr th {\n",
              "        vertical-align: top;\n",
              "    }\n",
              "\n",
              "    .dataframe thead th {\n",
              "        text-align: right;\n",
              "    }\n",
              "</style>\n",
              "<table border=\"1\" class=\"dataframe\">\n",
              "  <thead>\n",
              "    <tr style=\"text-align: right;\">\n",
              "      <th></th>\n",
              "      <th>Close</th>\n",
              "      <th>Prediction</th>\n",
              "    </tr>\n",
              "  </thead>\n",
              "  <tbody>\n",
              "    <tr>\n",
              "      <th>0</th>\n",
              "      <td>457.334015</td>\n",
              "      <td>383.757996</td>\n",
              "    </tr>\n",
              "    <tr>\n",
              "      <th>1</th>\n",
              "      <td>424.440002</td>\n",
              "      <td>391.441986</td>\n",
              "    </tr>\n",
              "    <tr>\n",
              "      <th>2</th>\n",
              "      <td>394.795990</td>\n",
              "      <td>389.545990</td>\n",
              "    </tr>\n",
              "    <tr>\n",
              "      <th>3</th>\n",
              "      <td>408.903992</td>\n",
              "      <td>382.845001</td>\n",
              "    </tr>\n",
              "    <tr>\n",
              "      <th>4</th>\n",
              "      <td>398.821014</td>\n",
              "      <td>386.475006</td>\n",
              "    </tr>\n",
              "    <tr>\n",
              "      <th>5</th>\n",
              "      <td>402.152008</td>\n",
              "      <td>383.157990</td>\n",
              "    </tr>\n",
              "    <tr>\n",
              "      <th>6</th>\n",
              "      <td>435.790985</td>\n",
              "      <td>358.416992</td>\n",
              "    </tr>\n",
              "  </tbody>\n",
              "</table>\n",
              "</div>"
            ],
            "text/plain": [
              "        Close  Prediction\n",
              "0  457.334015  383.757996\n",
              "1  424.440002  391.441986\n",
              "2  394.795990  389.545990\n",
              "3  408.903992  382.845001\n",
              "4  398.821014  386.475006\n",
              "5  402.152008  383.157990\n",
              "6  435.790985  358.416992"
            ]
          },
          "metadata": {
            "tags": []
          },
          "execution_count": 6
        }
      ]
    },
    {
      "cell_type": "markdown",
      "metadata": {
        "id": "x0GwO6p_t4A3"
      },
      "source": [
        "To demonstrate what we accomplished above by shifting the values up 30 days, the last 30 rows don’t have any values. We will show this by printing the last 7 rows of the new data set."
      ]
    },
    {
      "cell_type": "code",
      "metadata": {
        "colab": {
          "base_uri": "https://localhost:8080/",
          "height": 266
        },
        "id": "4bORTJoJt5zI",
        "outputId": "562af47d-7d44-4d0b-cddc-ac52d3fac4b1"
      },
      "source": [
        "#Show the last 7 rows of the new data set\n",
        "df.tail(7)"
      ],
      "execution_count": null,
      "outputs": [
        {
          "output_type": "execute_result",
          "data": {
            "text/html": [
              "<div>\n",
              "<style scoped>\n",
              "    .dataframe tbody tr th:only-of-type {\n",
              "        vertical-align: middle;\n",
              "    }\n",
              "\n",
              "    .dataframe tbody tr th {\n",
              "        vertical-align: top;\n",
              "    }\n",
              "\n",
              "    .dataframe thead th {\n",
              "        text-align: right;\n",
              "    }\n",
              "</style>\n",
              "<table border=\"1\" class=\"dataframe\">\n",
              "  <thead>\n",
              "    <tr style=\"text-align: right;\">\n",
              "      <th></th>\n",
              "      <th>Close</th>\n",
              "      <th>Prediction</th>\n",
              "    </tr>\n",
              "  </thead>\n",
              "  <tbody>\n",
              "    <tr>\n",
              "      <th>2426</th>\n",
              "      <td>58232.316406</td>\n",
              "      <td>NaN</td>\n",
              "    </tr>\n",
              "    <tr>\n",
              "      <th>2427</th>\n",
              "      <td>55859.796875</td>\n",
              "      <td>NaN</td>\n",
              "    </tr>\n",
              "    <tr>\n",
              "      <th>2428</th>\n",
              "      <td>56704.574219</td>\n",
              "      <td>NaN</td>\n",
              "    </tr>\n",
              "    <tr>\n",
              "      <th>2429</th>\n",
              "      <td>49150.535156</td>\n",
              "      <td>NaN</td>\n",
              "    </tr>\n",
              "    <tr>\n",
              "      <th>2430</th>\n",
              "      <td>49716.191406</td>\n",
              "      <td>NaN</td>\n",
              "    </tr>\n",
              "    <tr>\n",
              "      <th>2431</th>\n",
              "      <td>49880.535156</td>\n",
              "      <td>NaN</td>\n",
              "    </tr>\n",
              "    <tr>\n",
              "      <th>2432</th>\n",
              "      <td>47702.500000</td>\n",
              "      <td>NaN</td>\n",
              "    </tr>\n",
              "  </tbody>\n",
              "</table>\n",
              "</div>"
            ],
            "text/plain": [
              "             Close  Prediction\n",
              "2426  58232.316406         NaN\n",
              "2427  55859.796875         NaN\n",
              "2428  56704.574219         NaN\n",
              "2429  49150.535156         NaN\n",
              "2430  49716.191406         NaN\n",
              "2431  49880.535156         NaN\n",
              "2432  47702.500000         NaN"
            ]
          },
          "metadata": {
            "tags": []
          },
          "execution_count": 7
        }
      ]
    },
    {
      "cell_type": "markdown",
      "metadata": {
        "id": "xngKsCywuQDu"
      },
      "source": [
        "Create the independent data set. This is the set that contains the features to make the future predictions with. First we will convert the dataframe to a numpy array and drop the prediction column, then we will remove the last ’n’ rows where from the data set. In this article that means we will remove the last 30 days since ’n’ = prediction_days , which equals 30.\n",
        "\n",
        "An independent data set X is created to use for predicting, and last 30 days are removed from it and it serves as our training set."
      ]
    },
    {
      "cell_type": "code",
      "metadata": {
        "colab": {
          "base_uri": "https://localhost:8080/"
        },
        "id": "ANipgr_muRw-",
        "outputId": "0eea4e79-42ab-4d0b-bb26-f4ee7dbeeedb"
      },
      "source": [
        "#CREATE THE INDEPENDENT DATA SET (X)\n",
        "\n",
        "# Convert the dataframe to a numpy array and drop the prediction column\n",
        "X = np.array(df.drop(['Prediction'],1))\n",
        "\n",
        "#Remove the last 'n' rows where 'n' is the prediction_days\n",
        "X= X[:len(df)-prediction_days]\n",
        "print(X)\n",
        "\n",
        "\n",
        "#So we observe that by dropping Prediction, only close prices are left and NaN are removed too."
      ],
      "execution_count": null,
      "outputs": [
        {
          "output_type": "stream",
          "text": [
            "[[  457.334015]\n",
            " [  424.440002]\n",
            " [  394.79599 ]\n",
            " ...\n",
            " [63503.457031]\n",
            " [63109.695313]\n",
            " [63314.011719]]\n"
          ],
          "name": "stdout"
        }
      ]
    },
    {
      "cell_type": "markdown",
      "metadata": {
        "id": "p4B03J9Cuiy1"
      },
      "source": [
        "Create the dependent data set, this will be the data set that contains our target, that’s the data that we are trying to predict. We will accomplish this by converting the dataframe to a numpy array and getting all of the values from the prediction column of the dataframe.\n",
        "Then we will get all of the values from the created data set except for the last ’n’ rows."
      ]
    },
    {
      "cell_type": "code",
      "metadata": {
        "colab": {
          "base_uri": "https://localhost:8080/"
        },
        "id": "BPCa2IPDut8p",
        "outputId": "24cd222e-9122-4878-814e-909d0dccf922"
      },
      "source": [
        "#CREATE THE DEPENDENT DATA SET (y) \n",
        "# Convert the dataframe to a numpy array (All of the values including the NaN's) \n",
        "y = np.array(df['Prediction'])  \n",
        "#Prediction is simply actual values that were observed 30 days ahead in future\n",
        "#Here for prediction we created prediction by shifting close by -30\n",
        "# Get all of the y values except the last 'n' rows \n",
        "y = y[:-prediction_days] \n",
        "print(y)\n",
        "\n",
        "\n",
        "X = X[~np.isnan(X)]\n",
        "y = y[~np.isnan(y)]\n",
        "np.any(np.isnan(X))\n",
        "np.any(np.isnan(y))\n"
      ],
      "execution_count": null,
      "outputs": [
        {
          "output_type": "stream",
          "text": [
            "[  383.757996   391.441986   389.54599  ... 49716.191406 49880.535156\n",
            " 47702.5     ]\n"
          ],
          "name": "stdout"
        },
        {
          "output_type": "execute_result",
          "data": {
            "text/plain": [
              "False"
            ]
          },
          "metadata": {
            "tags": []
          },
          "execution_count": 9
        }
      ]
    },
    {
      "cell_type": "code",
      "metadata": {
        "id": "GPQ42Am2u_Hg"
      },
      "source": [
        "# Split the data into 80% training and 20% testing\n",
        "from sklearn.model_selection import train_test_split\n",
        "x_train, x_test, y_train, y_test = train_test_split(X, y, test_size=0.2)"
      ],
      "execution_count": null,
      "outputs": []
    },
    {
      "cell_type": "markdown",
      "metadata": {
        "id": "N5GlIoVjvFcm"
      },
      "source": [
        "Create a variable called prediction_days_array and set it equal to the last 30 rows of the original data set from the price column."
      ]
    },
    {
      "cell_type": "code",
      "metadata": {
        "colab": {
          "base_uri": "https://localhost:8080/"
        },
        "id": "SpSqNSeTvHNG",
        "outputId": "77c04f5d-6734-4494-82f9-85e7ccd33ad9"
      },
      "source": [
        "# Set prediction_days_array equal to the last 30 rows of the original data set from the price column\n",
        "prediction_days_array = np.array(df.drop(['Prediction'],1))[-prediction_days:]\n",
        "print(prediction_days_array)\n",
        "\n",
        "#These are closing prices for last 30 days it seems\n",
        "#As in prediction_days_array, we drop prediction, thus keeping only close prices and then slice -30: , ie every value after going 30 from end to front.\n",
        "#So has last 30 days of closing prices"
      ],
      "execution_count": null,
      "outputs": [
        {
          "output_type": "stream",
          "text": [
            "[[61572.789063]\n",
            " [60683.820313]\n",
            " [56216.183594]\n",
            " [55724.265625]\n",
            " [56473.03125 ]\n",
            " [53906.089844]\n",
            " [51762.273438]\n",
            " [51093.652344]\n",
            " [50050.867188]\n",
            " [49004.253906]\n",
            " [54021.753906]\n",
            " [55033.117188]\n",
            " [54824.703125]\n",
            " [53555.109375]\n",
            " [57750.175781]\n",
            " [57828.050781]\n",
            " [56631.078125]\n",
            " [57200.292969]\n",
            " [53333.539063]\n",
            " [57424.007813]\n",
            " [56396.515625]\n",
            " [57356.402344]\n",
            " [58803.777344]\n",
            " [58232.316406]\n",
            " [55859.796875]\n",
            " [56704.574219]\n",
            " [49150.535156]\n",
            " [49716.191406]\n",
            " [49880.535156]\n",
            " [47702.5     ]]\n"
          ],
          "name": "stdout"
        }
      ]
    },
    {
      "cell_type": "markdown",
      "metadata": {
        "id": "mL0o4vPxvL_n"
      },
      "source": [
        "Create the Support Vector Regression model using the radial basis function (rbf), and train the model."
      ]
    },
    {
      "cell_type": "code",
      "metadata": {
        "id": "mmfLWGi_x2ib"
      },
      "source": [
        "#Reshaping as model was showing error before and needs to have a 2D input\n",
        "x_train= x_train.reshape(-1, 1)\n",
        "y_train= y_train.reshape(-1, 1)\n",
        "x_test = x_test.reshape(-1, 1)\n",
        "y_test = y_test.reshape(-1, 1)\n"
      ],
      "execution_count": null,
      "outputs": []
    },
    {
      "cell_type": "code",
      "metadata": {
        "colab": {
          "base_uri": "https://localhost:8080/"
        },
        "id": "niO1blCpvOQm",
        "outputId": "67a5cdcf-0742-441f-f78d-f836e8c962ef"
      },
      "source": [
        "from sklearn.svm import SVR\n",
        "# Create and train the Support Vector Machine \n",
        "svr_rbf = SVR(kernel='rbf', C=1e3, gamma=0.00001)#Create the model\n",
        "svr_rbf.fit(x_train, y_train) #Train the model"
      ],
      "execution_count": null,
      "outputs": [
        {
          "output_type": "stream",
          "text": [
            "/usr/local/lib/python3.7/dist-packages/sklearn/utils/validation.py:760: DataConversionWarning: A column-vector y was passed when a 1d array was expected. Please change the shape of y to (n_samples, ), for example using ravel().\n",
            "  y = column_or_1d(y, warn=True)\n"
          ],
          "name": "stderr"
        },
        {
          "output_type": "execute_result",
          "data": {
            "text/plain": [
              "SVR(C=1000.0, cache_size=200, coef0=0.0, degree=3, epsilon=0.1, gamma=1e-05,\n",
              "    kernel='rbf', max_iter=-1, shrinking=True, tol=0.001, verbose=False)"
            ]
          },
          "metadata": {
            "tags": []
          },
          "execution_count": 13
        }
      ]
    },
    {
      "cell_type": "code",
      "metadata": {
        "colab": {
          "base_uri": "https://localhost:8080/"
        },
        "id": "pmoVtseux_fO",
        "outputId": "2a67d416-7805-48c6-888b-8f36bd4ed05f"
      },
      "source": [
        "# Testing Model: Score returns the accuracy of the prediction. \n",
        "# The best possible score is 1.0\n",
        "svr_rbf_confidence = svr_rbf.score(x_test, y_test)\n",
        "print(\"svr_rbf accuracy: \", svr_rbf_confidence)"
      ],
      "execution_count": null,
      "outputs": [
        {
          "output_type": "stream",
          "text": [
            "svr_rbf accuracy:  0.43084347010406365\n"
          ],
          "name": "stdout"
        }
      ]
    },
    {
      "cell_type": "code",
      "metadata": {
        "colab": {
          "base_uri": "https://localhost:8080/"
        },
        "id": "mfMlLTcwyC7t",
        "outputId": "305cb49a-6b0a-4e51-8d9a-939ab4b8d6a5"
      },
      "source": [
        "# Print the predicted value\n",
        "svm_prediction = svr_rbf.predict(x_test)\n",
        "print(svm_prediction)\n",
        "\n",
        "print()\n",
        "\n",
        "#Print the actual values\n",
        "print(y_test)"
      ],
      "execution_count": null,
      "outputs": [
        {
          "output_type": "stream",
          "text": [
            "[  283.18839966  8746.72430239   235.06918343  4077.00445811\n",
            "  9303.77508477  8809.47324437  6070.52891851  4018.42095494\n",
            "  9370.71523991  9244.61983945  6041.74157598   232.90159589\n",
            " 12509.3255128   4568.56730625   449.76547066  3348.2662648\n",
            " 15551.44076982   317.7029739   9206.92831801   443.87495987\n",
            "  4198.01529638  1490.97547829   224.15404      228.276752\n",
            "   331.55517061   280.47654792  6544.10514176   467.30403591\n",
            " 13044.08144026 13647.75852803   245.10023827  9397.46626022\n",
            "   696.39679624  9172.87039985  6140.70732911 15983.7459953\n",
            "   873.53167625  7237.76541455   254.77583276  9142.78409304\n",
            "  8869.56859468 10760.13857522 10771.17917402   372.799516\n",
            "  6136.982233     566.93519106 18817.65933309  4270.44676907\n",
            "   718.41207152 12349.00520711  2746.00124383 15642.91889242\n",
            "  2465.63073489 14133.88509693  8927.64397177  9612.30693797\n",
            "  1651.56046548  6076.22121395  9318.31831992  8770.94903364\n",
            "   402.28096714   467.45241861   827.85695589  4721.83299806\n",
            "   393.55609545  9025.9714789   9120.85341765 10446.89082213\n",
            "   725.97427429   461.17702021  1125.56203467 16924.22566294\n",
            "  2826.55273277  8871.49342819   604.46005075 15245.40171826\n",
            "  9667.81267896  9078.80158584  6267.98682547  8013.44222863\n",
            "  6622.42130275  9587.76832651 10431.98161569 12955.30852011\n",
            "  7249.96480125  4346.32859938   229.044846     268.90997763\n",
            "  8919.06777457  9352.93640204   472.17659066  3419.01273793\n",
            "   451.12469615   276.59588848  9164.34133958  7918.65517055\n",
            "  8917.75085264   241.34631542 15710.41611443 10932.52208983\n",
            "  8751.21412244  4755.41748763  7237.83368485  7789.26225832\n",
            "  8406.0053188   1122.82578985   252.28002547   227.96125933\n",
            "  6594.27665865 14953.41912974  9156.94877232  1124.63903205\n",
            "   707.35432014  1624.63740594  9463.02639843   245.31379487\n",
            "   352.96109737  9074.2348018  15322.4484158    229.47224793\n",
            "   450.01562064 10476.63031069   226.0029249   4704.27249476\n",
            " 10760.21165207  8334.12869607   350.96271825   228.20770564\n",
            "   672.38511563  9190.16229802 11742.8978443    236.01449478\n",
            "  8911.39458975 10934.793634     488.6584754   6458.14759993\n",
            "   276.65807689   458.36830104 14534.80608642   252.80155193\n",
            "   454.62176295   445.57101946  9256.98268663   846.53203193\n",
            "  5235.15210453   331.68442975  6218.52820566 13508.85451203\n",
            "   691.68457678 15145.12530275  1128.95096293  2750.19580312\n",
            "  4894.89272616  5278.21761035   343.31432286   242.54180541\n",
            "  7898.15995857  9184.00779975  5903.15942366  8709.66850026\n",
            "  9701.99092517   775.08005144   274.40151649   301.73932749\n",
            "  7331.42282101   610.00508507  9355.1281467   1108.04286475\n",
            "   263.96083541  2769.0056507   9183.80699918   269.61764068\n",
            " 13490.12126944   382.92240738   635.61526886 18316.85147523\n",
            "  8198.96761684   433.94015697  3104.53282775  9330.34240429\n",
            "  9145.44706027   855.29123608   718.74471107  9120.34147089\n",
            "   224.277307    4612.5459776   9140.45927493  9515.69265848\n",
            "  6140.62464198   268.2018663   8432.64874765   252.37323239\n",
            "   615.05967953  9134.94324791  7466.79679798   376.78079684\n",
            "   340.78525569   490.44989352  3038.60457052   334.89937054\n",
            "  8049.67732157  9170.76772147   500.68809426  1276.94551962\n",
            " 11110.53375448  2728.67137959  6833.20213555   418.36278005\n",
            "  5213.43743891 10681.33542208   330.5092558    244.40019697\n",
            "  6052.01061498  6769.94096285   604.93216501  4677.72137884\n",
            " 12318.60780451   257.28073541  7537.57099583   782.71542713\n",
            " 11325.88063446  8913.40672486   255.41538607 14737.28172303\n",
            "  9005.33036274  7742.04764972  9376.93285115   325.54964114\n",
            "  7282.89021477  8666.18070385  9274.77326265 13454.42305244\n",
            "   637.68527082   894.74896748  1177.73522858   458.57620658\n",
            "  6102.11688347   279.51213204   230.30372666   692.46753308\n",
            "   463.5911094   1255.47168376  5257.45557939  6120.77588115\n",
            "   636.09131342  7617.13551717  2738.35868397   224.7756005\n",
            "  9125.5174289    598.34556911  1100.98082306  7691.10884188\n",
            "  9339.26855616  9349.08566297   362.80127784 13423.38962839\n",
            "   268.67226576  4028.70726486 10686.49207733   359.01940905\n",
            " 13171.62069355 16092.98935126 13123.59958181  9112.4561093\n",
            "   252.80155193  4396.43593107  9881.06152424  6086.25470705\n",
            "   395.34454917   833.80525277  7237.8126058    727.67591684\n",
            "   240.19616282  3958.43733896  9428.21491006  9330.98752915\n",
            "   625.44703624   638.74133535   302.07979823 10729.56944291\n",
            "  1101.81018281  7254.31980407  9576.40713532   263.18343072\n",
            "   718.06385895   899.5245685   8942.12828411   229.25504041\n",
            "  9245.29241974  9117.57427129   613.01358881 11074.92726643\n",
            "  6808.35881594  4089.85229202  3487.24609969  1206.91742663\n",
            "   349.50825592 10428.09290391  6486.51299324  4630.24589212\n",
            "  9593.77323083   269.68931003  9147.18508322  5154.24228577\n",
            "  7871.6600638   9247.73426539  7395.99894105  9130.38500216\n",
            "   487.43283083   482.08056484   227.67919279   224.34450122\n",
            "  9100.88375481   254.52724481   472.96880744  4290.06881292\n",
            "  2777.1784703   4024.2546762    225.63093713   224.75208802\n",
            " 13059.82270141  1339.13470882   408.08109936   991.31751745\n",
            "   454.56196763 16971.05714899  9009.75724958  9912.71129677\n",
            "   245.47636004  5060.39289523  1112.61302752  9213.09413702\n",
            "   283.37073774  1470.17720635 10430.47854003 10998.4287791\n",
            " 12357.88496882   685.92128138   284.91845975   767.28299776\n",
            "  2057.58594366  9476.80725361   247.38036854   429.21617908\n",
            "   273.86355693  4026.2466029    282.75409239   669.3829023\n",
            "   362.92398592 16941.66626105  8878.99687257 16011.77541123\n",
            "   238.53366372  9349.6338775  12308.85542456  4758.20716368\n",
            "  4089.60341214   842.17690251  9900.64231074   233.27931415\n",
            "   263.05558069  9459.23411317  9717.83131003  9702.48955396\n",
            "  6449.01009133 10849.73694568   642.78987968  6345.13004845\n",
            "  7049.77999053  4638.33724217   420.49446007   507.91840082\n",
            "  4027.04258009   643.83269487 10560.86898722  9132.22205936\n",
            "  9538.57490433 13329.94962755 13786.65337932   687.55795214\n",
            " 11135.57793344  9101.92960345  4112.92779804  9120.75179191\n",
            "  6404.62480483  9173.68208224  8889.72385028  9341.55391778\n",
            "  8864.89371202  1333.48428468   482.73299282   238.51627906\n",
            "   429.56882342   765.10443925  8193.10095138  9246.92881281\n",
            " 10748.27539383  6289.51311463   234.0305179  11163.22958821\n",
            "   229.08839479   235.4350819    297.86741022  9151.96182241\n",
            " 15765.91117549  6746.56575003  8000.30149237 11796.36992047\n",
            "  2776.76736256  7458.28379404  6050.74274512  1586.41678791\n",
            "  2977.84595109 10238.95105304   621.88923674   225.17158369\n",
            "   250.19077365   635.50457182   454.98909206   470.99029497\n",
            "   856.27625398  9425.00893954   286.21035836   456.30758431\n",
            " 10428.37766236 11081.95403963  9049.22787953  7782.76543366\n",
            "  6182.28821437  2741.76868419  1547.00855692  9406.77957186\n",
            " 13254.81342963   240.43253546  8701.34501271 14186.54089283\n",
            "   597.5682301    363.44246892  4002.61979058  8896.36578891\n",
            "   262.7642583   5289.51527528  6104.40805094  8893.57624035\n",
            " 15637.80402368   230.74261662  4950.38937606 13153.829852\n",
            " 16895.36366207  7697.61945668   228.78746196  3943.31373902\n",
            " 13507.93809606   258.91251732  8970.71452022  3524.61379645\n",
            "  8357.43275879  8831.2928442  15802.66069272   245.45518572\n",
            "   227.70217717   917.76353979  9333.04868402  8867.35681475\n",
            "   498.90564244   276.67161816  1178.37132559   224.49900186\n",
            "  1222.66327321   810.75613003  7674.9650806   9913.77472669\n",
            "   480.19001131   225.19933452   825.07747368  8908.61566157\n",
            " 11200.07272476 11330.5856355   4706.75609635   234.90626281]\n",
            "\n",
            "[[  462.321991]\n",
            " [ 9003.070313]\n",
            " [  238.891998]\n",
            " [ 6468.399902]\n",
            " [11429.506836]\n",
            " [ 9350.529297]\n",
            " [ 8180.47998 ]\n",
            " [ 3761.557129]\n",
            " [10019.716797]\n",
            " [ 6676.75    ]\n",
            " [ 3476.114746]\n",
            " [  228.169006]\n",
            " [46339.761719]\n",
            " [ 3943.409424]\n",
            " [  416.394012]\n",
            " [ 4892.009766]\n",
            " [48824.425781]\n",
            " [  361.908997]\n",
            " [ 8869.669922]\n",
            " [  424.282013]\n",
            " [ 3792.399902]\n",
            " [ 1734.449951]\n",
            " [  326.148987]\n",
            " [  281.601013]\n",
            " [  331.885986]\n",
            " [  436.571991]\n",
            " [ 6544.430176]\n",
            " [  380.289001]\n",
            " [18177.484375]\n",
            " [14973.299805]\n",
            " [  288.278015]\n",
            " [ 7624.919922]\n",
            " [  739.247986]\n",
            " [ 8222.078125]\n",
            " [ 3486.950195]\n",
            " [55033.117188]\n",
            " [  660.767029]\n",
            " [ 7397.796875]\n",
            " [  283.679993]\n",
            " [ 8104.185547]\n",
            " [ 8757.788086]\n",
            " [10754.4375  ]\n",
            " [15701.339844]\n",
            " [  315.032013]\n",
            " [ 6596.109863]\n",
            " [  655.275024]\n",
            " [40797.609375]\n",
            " [ 3457.792725]\n",
            " [  573.216003]\n",
            " [46196.464844]\n",
            " [ 2601.639893]\n",
            " [55724.265625]\n",
            " [ 2286.409912]\n",
            " [51762.273438]\n",
            " [ 7243.134277]\n",
            " [ 6734.803711]\n",
            " [ 2084.72998 ]\n",
            " [ 6519.669922]\n",
            " [ 9277.967773]\n",
            " [10583.134766]\n",
            " [  387.40799 ]\n",
            " [  369.949005]\n",
            " [  777.94397 ]\n",
            " [ 4772.02002 ]\n",
            " [  395.536011]\n",
            " [13075.248047]\n",
            " [10311.545898]\n",
            " [10848.830078]\n",
            " [  741.648987]\n",
            " [  454.618988]\n",
            " [ 1079.97998 ]\n",
            " [38356.441406]\n",
            " [ 3252.909912]\n",
            " [ 8930.879883]\n",
            " [  604.728027]\n",
            " [18732.121094]\n",
            " [ 6636.319824]\n",
            " [ 4970.788086]\n",
            " [ 6543.200195]\n",
            " [ 8574.501953]\n",
            " [ 6376.129883]\n",
            " [10159.960938]\n",
            " [17804.005859]\n",
            " [21310.597656]\n",
            " [ 8745.894531]\n",
            " [ 3599.765869]\n",
            " [  240.358002]\n",
            " [  284.894012]\n",
            " [ 9321.78125 ]\n",
            " [10407.964844]\n",
            " [  410.261993]\n",
            " [ 2548.290039]\n",
            " [  420.872986]\n",
            " [  235.143997]\n",
            " [ 6416.314941]\n",
            " [ 9818.349609]\n",
            " [ 8041.779785]\n",
            " [  374.470001]\n",
            " [58232.316406]\n",
            " [11542.5     ]\n",
            " [ 6776.549805]\n",
            " [ 3583.96582 ]\n",
            " [ 6880.323242]\n",
            " [ 7343.895508]\n",
            " [ 8043.951172]\n",
            " [ 1179.969971]\n",
            " [  252.798004]\n",
            " [  229.283997]\n",
            " [15455.400391]\n",
            " [11259.400391]\n",
            " [ 8144.194336]\n",
            " [ 1117.439941]\n",
            " [  661.284973]\n",
            " [ 2041.199951]\n",
            " [ 7514.470215]\n",
            " [  411.562988]\n",
            " [  407.230011]\n",
            " [ 7275.155762]\n",
            " [13772.      ]\n",
            " [  320.04599 ]\n",
            " [  450.303986]\n",
            " [10680.837891]\n",
            " [  232.569   ]\n",
            " [ 4087.476318]\n",
            " [14982.099609]\n",
            " [ 8445.43457 ]\n",
            " [  352.218994]\n",
            " [  323.04599 ]\n",
            " [  705.020996]\n",
            " [ 9934.433594]\n",
            " [10931.400391]\n",
            " [  219.429993]\n",
            " [14026.599609]\n",
            " [11862.936523]\n",
            " [  443.187988]\n",
            " [ 6495.839844]\n",
            " [  237.095993]\n",
            " [  379.473999]\n",
            " [12899.200195]\n",
            " [  236.822998]\n",
            " [  447.976013]\n",
            " [  461.425995]\n",
            " [ 9729.324219]\n",
            " [  864.539978]\n",
            " [ 3413.767822]\n",
            " [  368.369995]\n",
            " [ 6596.540039]\n",
            " [55973.511719]\n",
            " [  744.593994]\n",
            " [11296.400391]\n",
            " [ 1115.300049]\n",
            " [ 2809.01001 ]\n",
            " [ 4029.326904]\n",
            " [ 5067.108398]\n",
            " [  434.334015]\n",
            " [  228.802994]\n",
            " [ 7824.231445]\n",
            " [ 7587.339844]\n",
            " [ 4338.709961]\n",
            " [ 8166.554199]\n",
            " [ 7146.133789]\n",
            " [  770.809998]\n",
            " [  211.315002]\n",
            " [  433.755005]\n",
            " [ 8424.269531]\n",
            " [  602.84198 ]\n",
            " [ 7023.52002 ]\n",
            " [  901.541992]\n",
            " [  377.321014]\n",
            " [ 2805.620117]\n",
            " [ 9670.739258]\n",
            " [  210.339005]\n",
            " [17717.414063]\n",
            " [  317.842987]\n",
            " [  575.471985]\n",
            " [24664.791016]\n",
            " [ 8208.995117]\n",
            " [  428.591003]\n",
            " [ 4352.399902]\n",
            " [ 7322.532227]\n",
            " [ 9510.200195]\n",
            " [  673.106018]\n",
            " [  655.046997]\n",
            " [ 9151.392578]\n",
            " [  279.584991]\n",
            " [ 5198.896973]\n",
            " [11815.986328]\n",
            " [ 8755.246094]\n",
            " [ 6476.709961]\n",
            " [  262.868988]\n",
            " [ 8253.549805]\n",
            " [  229.981995]\n",
            " [  608.242981]\n",
            " [ 8807.010742]\n",
            " [11916.700195]\n",
            " [  357.618011]\n",
            " [  329.955994]\n",
            " [  574.630005]\n",
            " [ 2398.840088]\n",
            " [  375.347992]\n",
            " [17706.900391]\n",
            " [ 9244.972656]\n",
            " [  574.97699 ]\n",
            " [ 1049.140015]\n",
            " [11916.334961]\n",
            " [ 2671.780029]\n",
            " [ 6530.140137]\n",
            " [  420.734985]\n",
            " [ 3865.952637]\n",
            " [ 7083.799805]\n",
            " [  257.321014]\n",
            " [  244.296005]\n",
            " [ 7795.601074]\n",
            " [ 4403.740234]\n",
            " [  650.960022]\n",
            " [ 5059.817383]\n",
            " [11966.407227]\n",
            " [  253.828003]\n",
            " [ 8912.654297]\n",
            " [  735.812988]\n",
            " [13780.995117]\n",
            " [ 7422.652832]\n",
            " [  285.505005]\n",
            " [32067.642578]\n",
            " [ 6394.709961]\n",
            " [ 6971.091797]\n",
            " [19497.400391]\n",
            " [  229.809998]\n",
            " [ 9743.860352]\n",
            " [ 6951.799805]\n",
            " [ 9235.919922]\n",
            " [58346.652344]\n",
            " [  636.192017]\n",
            " [  998.325012]\n",
            " [ 1250.150024]\n",
            " [  466.088989]\n",
            " [ 6388.439941]\n",
            " [  234.339996]\n",
            " [  265.083008]\n",
            " [  579.651001]\n",
            " [  391.859985]\n",
            " [ 1188.48999 ]\n",
            " [ 3666.780273]\n",
            " [ 7688.077148]\n",
            " [  647.658997]\n",
            " [ 6305.799805]\n",
            " [ 1929.819946]\n",
            " [  237.470001]\n",
            " [ 9132.227539]\n",
            " [  610.684021]\n",
            " [ 1027.339966]\n",
            " [ 6093.669922]\n",
            " [14291.5     ]\n",
            " [ 8309.286133]\n",
            " [  281.082001]\n",
            " [ 8277.009766]\n",
            " [  263.475006]\n",
            " [ 3854.7854  ]\n",
            " [17645.40625 ]\n",
            " [  334.571991]\n",
            " [47504.851563]\n",
            " [58245.003906]\n",
            " [59095.808594]\n",
            " [ 7973.20752 ]\n",
            " [  241.112   ]\n",
            " [ 3448.116943]\n",
            " [ 9162.917969]\n",
            " [ 6184.709961]\n",
            " [  437.747986]\n",
            " [  784.906982]\n",
            " [ 6404.      ]\n",
            " [  577.439026]\n",
            " [  267.959991]\n",
            " [ 4973.021973]\n",
            " [ 8672.455078]\n",
            " [ 6644.129883]\n",
            " [  657.294006]\n",
            " [  636.786011]\n",
            " [  275.670013]\n",
            " [10363.138672]\n",
            " [ 1063.069946]\n",
            " [ 7296.577637]\n",
            " [11754.045898]\n",
            " [  269.463013]\n",
            " [  574.317993]\n",
            " [  804.833984]\n",
            " [ 8247.179688]\n",
            " [  227.753998]\n",
            " [ 9690.142578]\n",
            " [10116.673828]\n",
            " [  596.297974]\n",
            " [14156.400391]\n",
            " [ 5831.16748 ]\n",
            " [ 4200.669922]\n",
            " [ 4100.52002 ]\n",
            " [ 1100.22998 ]\n",
            " [  430.566986]\n",
            " [10944.585938]\n",
            " [ 6359.490234]\n",
            " [ 5036.681152]\n",
            " [10530.732422]\n",
            " [  270.785004]\n",
            " [ 9122.545898]\n",
            " [ 4023.968262]\n",
            " [ 3242.484863]\n",
            " [ 8368.830078]\n",
            " [ 9358.589844]\n",
            " [ 9656.717773]\n",
            " [  381.648987]\n",
            " [  596.116028]\n",
            " [  282.614014]\n",
            " [  243.606995]\n",
            " [ 6719.959961]\n",
            " [  235.343994]\n",
            " [  413.307007]\n",
            " [ 4879.87793 ]\n",
            " [ 2273.429932]\n",
            " [ 3847.175781]\n",
            " [  255.492004]\n",
            " [  287.721985]\n",
            " [32569.849609]\n",
            " [ 1229.079956]\n",
            " [  389.54599 ]\n",
            " [ 1007.47998 ]\n",
            " [  417.959991]\n",
            " [11188.599609]\n",
            " [ 9551.714844]\n",
            " [11892.803711]\n",
            " [  260.024994]\n",
            " [ 4826.47998 ]\n",
            " [ 1061.349976]\n",
            " [ 7514.671875]\n",
            " [  291.76001 ]\n",
            " [ 1723.349976]\n",
            " [10511.813477]\n",
            " [15479.567383]\n",
            " [51093.652344]\n",
            " [  587.801025]\n",
            " [  236.802002]\n",
            " [  780.086975]\n",
            " [ 2255.610107]\n",
            " [ 9374.887695]\n",
            " [  304.618011]\n",
            " [  420.621002]\n",
            " [  330.492004]\n",
            " [ 3911.484375]\n",
            " [  381.315002]\n",
            " [  716.411011]\n",
            " [  315.863007]\n",
            " [31971.914063]\n",
            " [ 9686.441406]\n",
            " [23869.832031]\n",
            " [  236.552002]\n",
            " [ 9342.527344]\n",
            " [59384.3125  ]\n",
            " [ 5096.586426]\n",
            " [ 3892.350098]\n",
            " [  679.458984]\n",
            " [ 7494.169922]\n",
            " [  338.152008]\n",
            " [  240.953003]\n",
            " [ 7911.430176]\n",
            " [ 7406.52002 ]\n",
            " [10990.873047]\n",
            " [ 6351.799805]\n",
            " [ 9477.677734]\n",
            " [  703.41803 ]\n",
            " [ 4017.268555]\n",
            " [ 8205.167969]\n",
            " [ 5324.551758]\n",
            " [  383.15799 ]\n",
            " [  453.384003]\n",
            " [ 3903.942627]\n",
            " [  700.971985]\n",
            " [11403.700195]\n",
            " [ 9192.836914]\n",
            " [ 5014.47998 ]\n",
            " [38144.308594]\n",
            " [36178.140625]\n",
            " [  581.307983]\n",
            " [10690.400391]\n",
            " [11384.181641]\n",
            " [ 3985.080811]\n",
            " [ 9729.801758]\n",
            " [ 6467.069824]\n",
            " [ 9159.040039]\n",
            " [10141.996094]\n",
            " [ 6716.44043 ]\n",
            " [ 9700.414063]\n",
            " [  937.52002 ]\n",
            " [  536.919983]\n",
            " [  222.266006]\n",
            " [  424.029999]\n",
            " [  606.271973]\n",
            " [ 7822.023438]\n",
            " [11878.37207 ]\n",
            " [16716.111328]\n",
            " [ 6585.529785]\n",
            " [  245.022003]\n",
            " [11323.397461]\n",
            " [  247.526001]\n",
            " [  225.807999]\n",
            " [  463.615997]\n",
            " [11601.472656]\n",
            " [39187.328125]\n",
            " [ 8723.786133]\n",
            " [ 8406.515625]\n",
            " [ 8265.589844]\n",
            " [ 2576.47998 ]\n",
            " [ 8165.009766]\n",
            " [10233.599609]\n",
            " [ 1888.650024]\n",
            " [ 2947.709961]\n",
            " [ 9757.970703]\n",
            " [  610.435974]\n",
            " [  257.976013]\n",
            " [  314.165985]\n",
            " [  688.312988]\n",
            " [  455.67099 ]\n",
            " [  379.653992]\n",
            " [  963.742981]\n",
            " [ 9758.852539]\n",
            " [  253.718002]\n",
            " [  454.765991]\n",
            " [10725.599609]\n",
            " [10623.540039]\n",
            " [ 7902.089844]\n",
            " [ 6506.069824]\n",
            " [16936.800781]\n",
            " [ 2564.060059]\n",
            " [ 1724.23999 ]\n",
            " [ 8094.319824]\n",
            " [48912.382813]\n",
            " [  260.928009]\n",
            " [ 8706.245117]\n",
            " [57603.890625]\n",
            " [  575.536987]\n",
            " [  410.938995]\n",
            " [ 3857.297607]\n",
            " [ 8815.662109]\n",
            " [  232.757004]\n",
            " [ 5268.291016]\n",
            " [ 7780.439941]\n",
            " [11182.806641]\n",
            " [57523.421875]\n",
            " [  228.572998]\n",
            " [ 3836.741211]\n",
            " [52149.007813]\n",
            " [36824.363281]\n",
            " [ 7871.689941]\n",
            " [  228.121002]\n",
            " [ 3857.717529]\n",
            " [18553.916016]\n",
            " [  233.513   ]\n",
            " [10779.900391]\n",
            " [ 4160.620117]\n",
            " [ 9951.518555]\n",
            " [ 7493.48877 ]\n",
            " [11474.900391]\n",
            " [  229.048004]\n",
            " [  222.882004]\n",
            " [  907.937988]\n",
            " [ 8787.786133]\n",
            " [ 6495.      ]\n",
            " [  376.522003]\n",
            " [  255.412003]\n",
            " [  921.590027]\n",
            " [  227.268005]\n",
            " [ 1321.790039]\n",
            " [  800.875977]\n",
            " [ 6580.629883]\n",
            " [11111.213867]\n",
            " [  763.781006]\n",
            " [  230.643997]\n",
            " [  834.281006]\n",
            " [ 6242.193848]\n",
            " [10231.744141]\n",
            " [ 7165.700195]\n",
            " [ 4610.47998 ]\n",
            " [  223.832993]]\n"
          ],
          "name": "stdout"
        }
      ]
    },
    {
      "cell_type": "code",
      "metadata": {
        "colab": {
          "base_uri": "https://localhost:8080/"
        },
        "id": "3GchS1k6yFsV",
        "outputId": "50e83f95-0c27-4ed9-8b61-28ab9b67326d"
      },
      "source": [
        "# Print the model predictions for the next 'n=30' days\n",
        "svm_prediction = svr_rbf.predict(prediction_days_array)\n",
        "print(svm_prediction)"
      ],
      "execution_count": null,
      "outputs": [
        {
          "output_type": "stream",
          "text": [
            "[12633.35892737 12443.21769164 14896.01778198 14174.32264746\n",
            " 13165.72952659 12720.54836245 14338.67760392 13232.46092033\n",
            " 12771.7914957  16029.32986465 13082.62715782 13919.99702148\n",
            " 14112.07910297 12310.43245394 17584.49765511 17163.34254536\n",
            " 13154.97630177 14297.27565224 12296.63753282 16473.59207056\n",
            " 13455.97073985 15777.28554231 17302.17361902 15718.17193714\n",
            " 15420.33469477 13268.17323907 15090.31653424 14298.82909358\n",
            " 13578.9186434  14208.3196941 ]\n"
          ],
          "name": "stdout"
        }
      ]
    },
    {
      "cell_type": "code",
      "metadata": {
        "colab": {
          "base_uri": "https://localhost:8080/",
          "height": 300
        },
        "id": "VTO5kHhxyIDF",
        "outputId": "4a7554e8-eff6-4046-e2de-9249e195f755"
      },
      "source": [
        "#Print the actual price for the next 'n' days, n=prediction_days=30 \n",
        "df.tail(prediction_days)\n",
        "\n",
        "\n",
        "plt.plot(df.tail(prediction_days), label=\"Actual Price\", color='green')\n",
        "\n"
      ],
      "execution_count": null,
      "outputs": [
        {
          "output_type": "execute_result",
          "data": {
            "text/plain": [
              "[<matplotlib.lines.Line2D at 0x7faa01ad7590>,\n",
              " <matplotlib.lines.Line2D at 0x7faa01a8c490>]"
            ]
          },
          "metadata": {
            "tags": []
          },
          "execution_count": 17
        },
        {
          "output_type": "display_data",
          "data": {
            "image/png": "[encoded data removed]",
            "text/plain": [
              "<Figure size 432x288 with 1 Axes>"
            ]
          },
          "metadata": {
            "tags": [],
            "needs_background": "light"
          }
        }
      ]
    },
    {
      "cell_type": "code",
      "metadata": {
        "colab": {
          "base_uri": "https://localhost:8080/",
          "height": 282
        },
        "id": "shOLUXDQ2f0K",
        "outputId": "adfa3237-0f02-4195-d010-21da671b1c52"
      },
      "source": [
        "plt.plot(svm_prediction, label=\"Predicted Price\", color='red')"
      ],
      "execution_count": null,
      "outputs": [
        {
          "output_type": "execute_result",
          "data": {
            "text/plain": [
              "[<matplotlib.lines.Line2D at 0x7faa015e6810>]"
            ]
          },
          "metadata": {
            "tags": []
          },
          "execution_count": 18
        },
        {
          "output_type": "display_data",
          "data": {
            "image/png": "[encoded data removed]",
            "text/plain": [
              "<Figure size 432x288 with 1 Axes>"
            ]
          },
          "metadata": {
            "tags": [],
            "needs_background": "light"
          }
        }
      ]
    },
    {
      "cell_type": "code",
      "metadata": {
        "colab": {
          "base_uri": "https://localhost:8080/"
        },
        "id": "T33lTEV6ok1u",
        "outputId": "895ca9b6-8ae5-4329-87cd-2ac1c4539184"
      },
      "source": [
        "error = mean_squared_error(y_test[-30:], svm_prediction)\n",
        "print(error)"
      ],
      "execution_count": null,
      "outputs": [
        {
          "output_type": "stream",
          "text": [
            "123512737.2113584\n"
          ],
          "name": "stdout"
        }
      ]
    },
    {
      "cell_type": "code",
      "metadata": {
        "colab": {
          "base_uri": "https://localhost:8080/"
        },
        "id": "urt1j5gMG_cB",
        "outputId": "3170a603-e766-4d65-a5d5-5c46d1bdd645"
      },
      "source": [
        "from sklearn.metrics import mean_absolute_error\n",
        "\n",
        "abc = y_test[-30:] - svm_prediction\n",
        "abc = abs(abc)\n",
        "abc = abc[~np.isnan(abc)]\n",
        "from statistics import mean\n",
        "abc = mean(abc)\n",
        "print(abc)\n",
        "#print(mean_absolute_error) "
      ],
      "execution_count": null,
      "outputs": [
        {
          "output_type": "stream",
          "text": [
            "10071.9434048466\n"
          ],
          "name": "stdout"
        }
      ]
    },
    {
      "cell_type": "code",
      "metadata": {
        "colab": {
          "base_uri": "https://localhost:8080/",
          "height": 231
        },
        "id": "xeCIw6ewHAHQ",
        "outputId": "c17969fc-a453-4ad6-e800-72434f7ba0d5"
      },
      "source": [
        "##R^2 calculated above"
      ],
      "execution_count": null,
      "outputs": [
        {
          "output_type": "error",
          "ename": "TypeError",
          "evalue": "ignored",
          "traceback": [
            "\u001b[0;31m---------------------------------------------------------------------------\u001b[0m",
            "\u001b[0;31mTypeError\u001b[0m                                 Traceback (most recent call last)",
            "\u001b[0;32m<ipython-input-23-e8767e41004a>\u001b[0m in \u001b[0;36m<module>\u001b[0;34m()\u001b[0m\n\u001b[1;32m      1\u001b[0m \u001b[0;32mfrom\u001b[0m \u001b[0msklearn\u001b[0m\u001b[0;34m.\u001b[0m\u001b[0mmetrics\u001b[0m \u001b[0;32mimport\u001b[0m \u001b[0mr2_score\u001b[0m\u001b[0;34m\u001b[0m\u001b[0;34m\u001b[0m\u001b[0m\n\u001b[1;32m      2\u001b[0m \u001b[0;34m\u001b[0m\u001b[0m\n\u001b[0;32m----> 3\u001b[0;31m \u001b[0mforecast\u001b[0m \u001b[0;34m=\u001b[0m \u001b[0msvm_prediction\u001b[0m\u001b[0;34m[\u001b[0m\u001b[0;34m'2020-01-01'\u001b[0m\u001b[0;34m:\u001b[0m\u001b[0;34m'2021-01-01'\u001b[0m\u001b[0;34m]\u001b[0m\u001b[0;34m.\u001b[0m\u001b[0mforecast\u001b[0m\u001b[0;34m\u001b[0m\u001b[0;34m\u001b[0m\u001b[0m\n\u001b[0m\u001b[1;32m      4\u001b[0m \u001b[0;34m\u001b[0m\u001b[0m\n\u001b[1;32m      5\u001b[0m \u001b[0;34m\u001b[0m\u001b[0m\n",
            "\u001b[0;31mTypeError\u001b[0m: slice indices must be integers or None or have an __index__ method"
          ]
        }
      ]
    }
  ]
}